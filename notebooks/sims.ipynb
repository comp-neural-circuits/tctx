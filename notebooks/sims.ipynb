{
 "cells": [
  {
   "cell_type": "markdown",
   "metadata": {
    "collapsed": true,
    "pycharm": {
     "name": "#%% md\n"
    }
   },
   "source": [
    "# Setup Sims\n",
    "\n",
    "We instantiate 300 networks, run each 20 times, yielding an original batch of 6,000 simulations\n",
    "that will be re-analyzed and re-run throughout the paper (see Methods, simulations).\n"
   ]
  },
  {
   "cell_type": "code",
   "execution_count": null,
   "metadata": {
    "pycharm": {
     "name": "#%%\n"
    }
   },
   "outputs": [],
   "source": [
    "%matplotlib inline\n",
    "import matplotlib\n",
    "matplotlib.rcParams['figure.dpi'] = 300."
   ]
  },
  {
   "cell_type": "code",
   "execution_count": null,
   "metadata": {
    "pycharm": {
     "name": "#%%\n"
    }
   },
   "outputs": [],
   "source": [
    "from tctx import simsetup\n",
    "from tctx.analysis import simbatch as sb\n",
    "from tctx import postpro"
   ]
  },
  {
   "cell_type": "code",
   "execution_count": null,
   "metadata": {},
   "outputs": [],
   "source": [
    "iwm_range = (50, 110)\n",
    "iws_range = (0, 120)"
   ]
  },
  {
   "cell_type": "markdown",
   "metadata": {},
   "source": [
    "# Original batch"
   ]
  },
  {
   "cell_type": "code",
   "execution_count": null,
   "metadata": {
    "pycharm": {
     "name": "#%%\n"
    }
   },
   "outputs": [],
   "source": [
    "%%time\n",
    "\n",
    "input_batch_path = simsetup.setup_original_batch(\n",
    "    'nets_2021.12.01',\n",
    "    'original',\n",
    "    net_count=300,\n",
    "    sim_count_per_net=20,\n",
    "    iwm_range=iwm_range,\n",
    "    iws_range=iws_range,\n",
    ")"
   ]
  },
  {
   "cell_type": "code",
   "execution_count": null,
   "metadata": {
    "pycharm": {
     "name": "#%%\n"
    }
   },
   "outputs": [],
   "source": [
    "input_batch = sb.SimBatch.load(input_batch_path)\n",
    "\n",
    "input_batch.describe_reg()"
   ]
  },
  {
   "cell_type": "code",
   "execution_count": null,
   "metadata": {},
   "outputs": [],
   "source": [
    "!ls -lha ../../../data/interim/nets_*\n",
    "!ls -lha ../../../data/interim/batch_*"
   ]
  },
  {
   "cell_type": "markdown",
   "metadata": {},
   "source": [
    "## Post-process"
   ]
  },
  {
   "cell_type": "code",
   "execution_count": null,
   "metadata": {},
   "outputs": [],
   "source": [
    "# Look up the results of executing seqexp.py\n",
    "results_batch_path = sb.abs_path('seqexp/2021.12.01.00.00.00.000000/sweeps.h5')\n",
    "!ls -lh $results_batch_path\n",
    "\n",
    "batch_results = sb.SimBatch.load(results_batch_path).sel(status='success')\n",
    "simsetup.plot_input_param_sampling(batch_results, iwm_range, iws_range)\n",
    "batch_results.describe_reg()"
   ]
  },
  {
   "cell_type": "code",
   "execution_count": null,
   "metadata": {},
   "outputs": [],
   "source": [
    "working_filename = sb.abs_path('batch_2021.12.01_processed/registry.h5')\n",
    "seqs_folder = working_filename.parent / 'seqs'\n",
    "\n",
    "simsetup.save_batch(batch_results, working_filename)"
   ]
  },
  {
   "cell_type": "markdown",
   "metadata": {},
   "source": [
    "Register the results of the simulations and extract basic stats like firing rates"
   ]
  },
  {
   "cell_type": "code",
   "execution_count": null,
   "metadata": {},
   "outputs": [],
   "source": [
    "postpro.register_raw(working_filename)\n",
    "\n",
    "postpro.extract_simstats(working_filename)"
   ]
  },
  {
   "cell_type": "markdown",
   "metadata": {},
   "source": [
    "Extract $\\Delta$ FR for all cells, tag followers, and extract sequence stats"
   ]
  },
  {
   "cell_type": "code",
   "execution_count": null,
   "metadata": {},
   "outputs": [],
   "source": [
    "postpro.extract_followers(working_filename, seqs_folder)"
   ]
  },
  {
   "cell_type": "code",
   "execution_count": null,
   "metadata": {},
   "outputs": [],
   "source": [
    "postpro.extract_extents(working_filename)"
   ]
  },
  {
   "cell_type": "code",
   "execution_count": null,
   "metadata": {},
   "outputs": [],
   "source": [
    "postpro.extract_order_entropy(working_filename, seqs_folder / 'order_entropy.h5')"
   ]
  },
  {
   "cell_type": "markdown",
   "metadata": {},
   "source": [
    "Store follower cells and follower-to-follower connections separately for quicker access"
   ]
  },
  {
   "cell_type": "code",
   "execution_count": null,
   "metadata": {},
   "outputs": [],
   "source": [
    "postpro.extract_all_foll_cells(working_filename, seqs_folder / 'foll_cells.h5')\n",
    "\n",
    "postpro.extract_net_foll_conns(working_filename, seqs_folder / 'net_foll_conns.h5')\n",
    "\n",
    "postpro.extract_str_foll_conns(working_filename, seqs_folder / 'str_foll_conns.h5', mask_col=None)"
   ]
  },
  {
   "cell_type": "markdown",
   "metadata": {},
   "source": [
    "Extract activation matrices of followers and cluster using k-modes for Fig. 4"
   ]
  },
  {
   "cell_type": "code",
   "execution_count": null,
   "metadata": {},
   "outputs": [],
   "source": [
    "postpro.extract_foll_amats(working_filename, seqs_folder / 'amat.h5')"
   ]
  },
  {
   "cell_type": "code",
   "execution_count": null,
   "metadata": {},
   "outputs": [],
   "source": [
    "postpro.extract_kmodes_labels(working_filename, seqs_folder / f'kmode_labels.h5')"
   ]
  },
  {
   "cell_type": "code",
   "execution_count": null,
   "metadata": {},
   "outputs": [],
   "source": [
    "sb.SimBatch.load(working_filename).describe_reg()"
   ]
  },
  {
   "cell_type": "markdown",
   "metadata": {},
   "source": [
    "# Spike transfer extraction"
   ]
  },
  {
   "cell_type": "code",
   "execution_count": null,
   "metadata": {},
   "outputs": [],
   "source": [
    "working_filename = sb.abs_path('batch_2021.12.01_processed/registry.h5')\n",
    "\n",
    "batch_results = sb.SimBatch.load(working_filename)"
   ]
  },
  {
   "cell_type": "markdown",
   "metadata": {},
   "source": [
    "## Randomly tag simulations for extraction"
   ]
  },
  {
   "cell_type": "code",
   "execution_count": null,
   "metadata": {},
   "outputs": [],
   "source": [
    "motif_sim_count = 900\n",
    "simsetup.randomly_tag(batch_results, motif_sim_count, 'uniform_sampling_sub')\n",
    "\n",
    "simsetup.plot_input_param_sampling(\n",
    "    batch_results,\n",
    "    iwm_range,\n",
    "    iws_range,\n",
    "    highlight='uniform_sampling_sub',\n",
    ")"
   ]
  },
  {
   "cell_type": "code",
   "execution_count": null,
   "metadata": {},
   "outputs": [],
   "source": [
    "simsetup.save_batch(batch_results, working_filename)"
   ]
  },
  {
   "cell_type": "markdown",
   "metadata": {},
   "source": [
    "## Post-process"
   ]
  },
  {
   "cell_type": "code",
   "execution_count": null,
   "metadata": {},
   "outputs": [],
   "source": [
    "postpro.extract_all_jumps(\n",
    "    working_filename,\n",
    "    seqs_folder / 'jumps.h5',\n",
    "    mask_col='uniform_sampling_sub',\n",
    ")"
   ]
  },
  {
   "cell_type": "code",
   "execution_count": null,
   "metadata": {},
   "outputs": [],
   "source": [
    "postpro.extract_motifs(\n",
    "    working_filename,\n",
    "    seqs_folder / 'motifs.h5',\n",
    "    mask_col='uniform_sampling_sub',\n",
    ")"
   ]
  }
 ],
 "metadata": {
  "kernelspec": {
   "display_name": "Python 3",
   "language": "python",
   "name": "python3"
  },
  "language_info": {
   "codemirror_mode": {
    "name": "ipython",
    "version": 3
   },
   "file_extension": ".py",
   "mimetype": "text/x-python",
   "name": "python",
   "nbconvert_exporter": "python",
   "pygments_lexer": "ipython3",
   "version": "3.8.8"
  },
  "toc": {
   "base_numbering": 1,
   "nav_menu": {},
   "number_sections": false,
   "sideBar": true,
   "skip_h1_title": false,
   "title_cell": "Table of Contents",
   "title_sidebar": "Contents",
   "toc_cell": false,
   "toc_position": {
    "height": "calc(100% - 180px)",
    "left": "10px",
    "top": "150px",
    "width": "165px"
   },
   "toc_section_display": true,
   "toc_window_display": true
  }
 },
 "nbformat": 4,
 "nbformat_minor": 1
}
